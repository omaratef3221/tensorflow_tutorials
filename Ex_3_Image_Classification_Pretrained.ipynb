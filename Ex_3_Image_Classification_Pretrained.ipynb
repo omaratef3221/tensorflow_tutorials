{
  "nbformat": 4,
  "nbformat_minor": 0,
  "metadata": {
    "colab": {
      "provenance": [],
      "gpuType": "T4"
    },
    "kernelspec": {
      "name": "python3",
      "display_name": "Python 3"
    },
    "language_info": {
      "name": "python"
    },
    "accelerator": "GPU"
  },
  "cells": [
    {
      "cell_type": "markdown",
      "source": [
        "# 1. Initializations and Dataset Download\n",
        "In this cell, we will install the opendatasets library which will allow us to download the data from kaggle directly by just providing the dataset link and we will also download the dataset from kaggle [here](https://www.kaggle.com/datasets/marquis03/bean-leaf-lesions-classification)"
      ],
      "metadata": {
        "id": "xsVLqO7wa_a2"
      }
    },
    {
      "cell_type": "code",
      "execution_count": 2,
      "metadata": {
        "colab": {
          "base_uri": "https://localhost:8080/"
        },
        "id": "oJ-0tDWV84oU",
        "outputId": "f703b4b4-b806-4486-ddd3-f05bb702bb57"
      },
      "outputs": [
        {
          "output_type": "stream",
          "name": "stdout",
          "text": [
            "Please provide your Kaggle credentials to download this dataset. Learn more: http://bit.ly/kaggle-creds\n",
            "Your Kaggle username: omaratef3221\n",
            "Your Kaggle Key: ··········\n",
            "Downloading bean-leaf-lesions-classification.zip to ./bean-leaf-lesions-classification\n"
          ]
        },
        {
          "output_type": "stream",
          "name": "stderr",
          "text": [
            "100%|██████████| 155M/155M [00:02<00:00, 76.4MB/s]\n"
          ]
        },
        {
          "output_type": "stream",
          "name": "stdout",
          "text": [
            "\n"
          ]
        }
      ],
      "source": [
        "!pip install opendatasets --quiet\n",
        "import opendatasets as od\n",
        "od.download(\"https://www.kaggle.com/datasets/marquis03/bean-leaf-lesions-classification\")"
      ]
    },
    {
      "cell_type": "markdown",
      "source": [
        "# 2. Imports\n",
        "Lets start by getting all our imports. Additionally, we will check if TensorFlow is using the GPU or not. If everything is installed correctly, TensorFlow will use the GPU automatically and in Colab everything is installed for you."
      ],
      "metadata": {
        "id": "TI6RqPCSbcnr"
      }
    },
    {
      "cell_type": "code",
      "source": [
        "import tensorflow as tf # TensorFlow main library\n",
        "from tensorflow.keras.preprocessing.image import ImageDataGenerator # Main image data generator to read the images\n",
        "from tensorflow.keras import models, layers, Sequential # Models layer e.g. Dense, Convolutions, etc.\n",
        "from tensorflow.keras.applications.vgg16 import VGG16 # Import the pretrained model\n",
        "import matplotlib.pyplot as plt # Plotting to plot train progress\n",
        "from sklearn.metrics import classification_report # For Evaluation\n",
        "import pandas as pd # Pandas for data analysis\n",
        "import numpy as np # Analysis for numbers\n",
        "import os # Interacting with the operating system\n",
        "\n",
        "print(tf.config.list_physical_devices('GPU')) # Checking if tensorflow is using the GPU"
      ],
      "metadata": {
        "colab": {
          "base_uri": "https://localhost:8080/"
        },
        "id": "o7IeFmo29KAl",
        "outputId": "3df3489e-6b59-4aec-f74f-f20508fe5cbd"
      },
      "execution_count": 3,
      "outputs": [
        {
          "output_type": "stream",
          "name": "stdout",
          "text": [
            "[PhysicalDevice(name='/physical_device:GPU:0', device_type='GPU')]\n"
          ]
        }
      ]
    },
    {
      "cell_type": "markdown",
      "source": [
        "# 3. Reading Data Paths\n",
        "Luckily our dataset is already organized well in two folders which are having the CSV files that has the images directories for both training and validation. We will read these CSVs and we will merge them both in order to split again the data with our own split percentage. After reading the files. We will use the `concat` function to merge these two CSVs and then we will modify the path to make sure it includes the full path in colab. Then we will print the data shape `(rows, columns)` and then we will use the `head` function to print the first 5 rows only."
      ],
      "metadata": {
        "id": "rOlIvHP3cFhs"
      }
    },
    {
      "cell_type": "code",
      "source": [
        "train_df = pd.read_csv(\"/content/bean-leaf-lesions-classification/train.csv\")\n",
        "val_df = pd.read_csv(\"/content/bean-leaf-lesions-classification/val.csv\")\n",
        "\n",
        "data_df = pd.concat([train_df, val_df], ignore_index=True)\n",
        "\n",
        "data_df[\"image:FILE\"] = \"/content/bean-leaf-lesions-classification/\" + data_df[\"image:FILE\"]\n",
        "\n",
        "print(\"Data shape is: \", data_df.shape)\n",
        "print()\n",
        "data_df.head()"
      ],
      "metadata": {
        "colab": {
          "base_uri": "https://localhost:8080/",
          "height": 241
        },
        "id": "2FsauK2t-Jfc",
        "outputId": "90a1c31c-37c4-4f1b-dcc6-7e9b513c15ee"
      },
      "execution_count": 4,
      "outputs": [
        {
          "output_type": "stream",
          "name": "stdout",
          "text": [
            "Data shape is:  (1167, 2)\n",
            "\n"
          ]
        },
        {
          "output_type": "execute_result",
          "data": {
            "text/plain": [
              "                                          image:FILE  category\n",
              "0  /content/bean-leaf-lesions-classification/trai...         0\n",
              "1  /content/bean-leaf-lesions-classification/trai...         0\n",
              "2  /content/bean-leaf-lesions-classification/trai...         0\n",
              "3  /content/bean-leaf-lesions-classification/trai...         0\n",
              "4  /content/bean-leaf-lesions-classification/trai...         0"
            ],
            "text/html": [
              "\n",
              "  <div id=\"df-0246a2cf-d26e-4f9e-9ae8-334579dbcf34\" class=\"colab-df-container\">\n",
              "    <div>\n",
              "<style scoped>\n",
              "    .dataframe tbody tr th:only-of-type {\n",
              "        vertical-align: middle;\n",
              "    }\n",
              "\n",
              "    .dataframe tbody tr th {\n",
              "        vertical-align: top;\n",
              "    }\n",
              "\n",
              "    .dataframe thead th {\n",
              "        text-align: right;\n",
              "    }\n",
              "</style>\n",
              "<table border=\"1\" class=\"dataframe\">\n",
              "  <thead>\n",
              "    <tr style=\"text-align: right;\">\n",
              "      <th></th>\n",
              "      <th>image:FILE</th>\n",
              "      <th>category</th>\n",
              "    </tr>\n",
              "  </thead>\n",
              "  <tbody>\n",
              "    <tr>\n",
              "      <th>0</th>\n",
              "      <td>/content/bean-leaf-lesions-classification/trai...</td>\n",
              "      <td>0</td>\n",
              "    </tr>\n",
              "    <tr>\n",
              "      <th>1</th>\n",
              "      <td>/content/bean-leaf-lesions-classification/trai...</td>\n",
              "      <td>0</td>\n",
              "    </tr>\n",
              "    <tr>\n",
              "      <th>2</th>\n",
              "      <td>/content/bean-leaf-lesions-classification/trai...</td>\n",
              "      <td>0</td>\n",
              "    </tr>\n",
              "    <tr>\n",
              "      <th>3</th>\n",
              "      <td>/content/bean-leaf-lesions-classification/trai...</td>\n",
              "      <td>0</td>\n",
              "    </tr>\n",
              "    <tr>\n",
              "      <th>4</th>\n",
              "      <td>/content/bean-leaf-lesions-classification/trai...</td>\n",
              "      <td>0</td>\n",
              "    </tr>\n",
              "  </tbody>\n",
              "</table>\n",
              "</div>\n",
              "    <div class=\"colab-df-buttons\">\n",
              "\n",
              "  <div class=\"colab-df-container\">\n",
              "    <button class=\"colab-df-convert\" onclick=\"convertToInteractive('df-0246a2cf-d26e-4f9e-9ae8-334579dbcf34')\"\n",
              "            title=\"Convert this dataframe to an interactive table.\"\n",
              "            style=\"display:none;\">\n",
              "\n",
              "  <svg xmlns=\"http://www.w3.org/2000/svg\" height=\"24px\" viewBox=\"0 -960 960 960\">\n",
              "    <path d=\"M120-120v-720h720v720H120Zm60-500h600v-160H180v160Zm220 220h160v-160H400v160Zm0 220h160v-160H400v160ZM180-400h160v-160H180v160Zm440 0h160v-160H620v160ZM180-180h160v-160H180v160Zm440 0h160v-160H620v160Z\"/>\n",
              "  </svg>\n",
              "    </button>\n",
              "\n",
              "  <style>\n",
              "    .colab-df-container {\n",
              "      display:flex;\n",
              "      gap: 12px;\n",
              "    }\n",
              "\n",
              "    .colab-df-convert {\n",
              "      background-color: #E8F0FE;\n",
              "      border: none;\n",
              "      border-radius: 50%;\n",
              "      cursor: pointer;\n",
              "      display: none;\n",
              "      fill: #1967D2;\n",
              "      height: 32px;\n",
              "      padding: 0 0 0 0;\n",
              "      width: 32px;\n",
              "    }\n",
              "\n",
              "    .colab-df-convert:hover {\n",
              "      background-color: #E2EBFA;\n",
              "      box-shadow: 0px 1px 2px rgba(60, 64, 67, 0.3), 0px 1px 3px 1px rgba(60, 64, 67, 0.15);\n",
              "      fill: #174EA6;\n",
              "    }\n",
              "\n",
              "    .colab-df-buttons div {\n",
              "      margin-bottom: 4px;\n",
              "    }\n",
              "\n",
              "    [theme=dark] .colab-df-convert {\n",
              "      background-color: #3B4455;\n",
              "      fill: #D2E3FC;\n",
              "    }\n",
              "\n",
              "    [theme=dark] .colab-df-convert:hover {\n",
              "      background-color: #434B5C;\n",
              "      box-shadow: 0px 1px 3px 1px rgba(0, 0, 0, 0.15);\n",
              "      filter: drop-shadow(0px 1px 2px rgba(0, 0, 0, 0.3));\n",
              "      fill: #FFFFFF;\n",
              "    }\n",
              "  </style>\n",
              "\n",
              "    <script>\n",
              "      const buttonEl =\n",
              "        document.querySelector('#df-0246a2cf-d26e-4f9e-9ae8-334579dbcf34 button.colab-df-convert');\n",
              "      buttonEl.style.display =\n",
              "        google.colab.kernel.accessAllowed ? 'block' : 'none';\n",
              "\n",
              "      async function convertToInteractive(key) {\n",
              "        const element = document.querySelector('#df-0246a2cf-d26e-4f9e-9ae8-334579dbcf34');\n",
              "        const dataTable =\n",
              "          await google.colab.kernel.invokeFunction('convertToInteractive',\n",
              "                                                    [key], {});\n",
              "        if (!dataTable) return;\n",
              "\n",
              "        const docLinkHtml = 'Like what you see? Visit the ' +\n",
              "          '<a target=\"_blank\" href=https://colab.research.google.com/notebooks/data_table.ipynb>data table notebook</a>'\n",
              "          + ' to learn more about interactive tables.';\n",
              "        element.innerHTML = '';\n",
              "        dataTable['output_type'] = 'display_data';\n",
              "        await google.colab.output.renderOutput(dataTable, element);\n",
              "        const docLink = document.createElement('div');\n",
              "        docLink.innerHTML = docLinkHtml;\n",
              "        element.appendChild(docLink);\n",
              "      }\n",
              "    </script>\n",
              "  </div>\n",
              "\n",
              "\n",
              "<div id=\"df-0eeef176-ac37-421a-b0d7-eafd073dfbd8\">\n",
              "  <button class=\"colab-df-quickchart\" onclick=\"quickchart('df-0eeef176-ac37-421a-b0d7-eafd073dfbd8')\"\n",
              "            title=\"Suggest charts\"\n",
              "            style=\"display:none;\">\n",
              "\n",
              "<svg xmlns=\"http://www.w3.org/2000/svg\" height=\"24px\"viewBox=\"0 0 24 24\"\n",
              "     width=\"24px\">\n",
              "    <g>\n",
              "        <path d=\"M19 3H5c-1.1 0-2 .9-2 2v14c0 1.1.9 2 2 2h14c1.1 0 2-.9 2-2V5c0-1.1-.9-2-2-2zM9 17H7v-7h2v7zm4 0h-2V7h2v10zm4 0h-2v-4h2v4z\"/>\n",
              "    </g>\n",
              "</svg>\n",
              "  </button>\n",
              "\n",
              "<style>\n",
              "  .colab-df-quickchart {\n",
              "      --bg-color: #E8F0FE;\n",
              "      --fill-color: #1967D2;\n",
              "      --hover-bg-color: #E2EBFA;\n",
              "      --hover-fill-color: #174EA6;\n",
              "      --disabled-fill-color: #AAA;\n",
              "      --disabled-bg-color: #DDD;\n",
              "  }\n",
              "\n",
              "  [theme=dark] .colab-df-quickchart {\n",
              "      --bg-color: #3B4455;\n",
              "      --fill-color: #D2E3FC;\n",
              "      --hover-bg-color: #434B5C;\n",
              "      --hover-fill-color: #FFFFFF;\n",
              "      --disabled-bg-color: #3B4455;\n",
              "      --disabled-fill-color: #666;\n",
              "  }\n",
              "\n",
              "  .colab-df-quickchart {\n",
              "    background-color: var(--bg-color);\n",
              "    border: none;\n",
              "    border-radius: 50%;\n",
              "    cursor: pointer;\n",
              "    display: none;\n",
              "    fill: var(--fill-color);\n",
              "    height: 32px;\n",
              "    padding: 0;\n",
              "    width: 32px;\n",
              "  }\n",
              "\n",
              "  .colab-df-quickchart:hover {\n",
              "    background-color: var(--hover-bg-color);\n",
              "    box-shadow: 0 1px 2px rgba(60, 64, 67, 0.3), 0 1px 3px 1px rgba(60, 64, 67, 0.15);\n",
              "    fill: var(--button-hover-fill-color);\n",
              "  }\n",
              "\n",
              "  .colab-df-quickchart-complete:disabled,\n",
              "  .colab-df-quickchart-complete:disabled:hover {\n",
              "    background-color: var(--disabled-bg-color);\n",
              "    fill: var(--disabled-fill-color);\n",
              "    box-shadow: none;\n",
              "  }\n",
              "\n",
              "  .colab-df-spinner {\n",
              "    border: 2px solid var(--fill-color);\n",
              "    border-color: transparent;\n",
              "    border-bottom-color: var(--fill-color);\n",
              "    animation:\n",
              "      spin 1s steps(1) infinite;\n",
              "  }\n",
              "\n",
              "  @keyframes spin {\n",
              "    0% {\n",
              "      border-color: transparent;\n",
              "      border-bottom-color: var(--fill-color);\n",
              "      border-left-color: var(--fill-color);\n",
              "    }\n",
              "    20% {\n",
              "      border-color: transparent;\n",
              "      border-left-color: var(--fill-color);\n",
              "      border-top-color: var(--fill-color);\n",
              "    }\n",
              "    30% {\n",
              "      border-color: transparent;\n",
              "      border-left-color: var(--fill-color);\n",
              "      border-top-color: var(--fill-color);\n",
              "      border-right-color: var(--fill-color);\n",
              "    }\n",
              "    40% {\n",
              "      border-color: transparent;\n",
              "      border-right-color: var(--fill-color);\n",
              "      border-top-color: var(--fill-color);\n",
              "    }\n",
              "    60% {\n",
              "      border-color: transparent;\n",
              "      border-right-color: var(--fill-color);\n",
              "    }\n",
              "    80% {\n",
              "      border-color: transparent;\n",
              "      border-right-color: var(--fill-color);\n",
              "      border-bottom-color: var(--fill-color);\n",
              "    }\n",
              "    90% {\n",
              "      border-color: transparent;\n",
              "      border-bottom-color: var(--fill-color);\n",
              "    }\n",
              "  }\n",
              "</style>\n",
              "\n",
              "  <script>\n",
              "    async function quickchart(key) {\n",
              "      const quickchartButtonEl =\n",
              "        document.querySelector('#' + key + ' button');\n",
              "      quickchartButtonEl.disabled = true;  // To prevent multiple clicks.\n",
              "      quickchartButtonEl.classList.add('colab-df-spinner');\n",
              "      try {\n",
              "        const charts = await google.colab.kernel.invokeFunction(\n",
              "            'suggestCharts', [key], {});\n",
              "      } catch (error) {\n",
              "        console.error('Error during call to suggestCharts:', error);\n",
              "      }\n",
              "      quickchartButtonEl.classList.remove('colab-df-spinner');\n",
              "      quickchartButtonEl.classList.add('colab-df-quickchart-complete');\n",
              "    }\n",
              "    (() => {\n",
              "      let quickchartButtonEl =\n",
              "        document.querySelector('#df-0eeef176-ac37-421a-b0d7-eafd073dfbd8 button');\n",
              "      quickchartButtonEl.style.display =\n",
              "        google.colab.kernel.accessAllowed ? 'block' : 'none';\n",
              "    })();\n",
              "  </script>\n",
              "</div>\n",
              "\n",
              "    </div>\n",
              "  </div>\n"
            ]
          },
          "metadata": {},
          "execution_count": 4
        }
      ]
    },
    {
      "cell_type": "markdown",
      "source": [
        "# 4. Data Analysis\n",
        "Now we will do an optional part. But its always recommended to check the details of your data. In the cell below we will see our classes which are 0,1,2 which means its a multi class classification problem. Additionally we will see the classes distribution and its clearly shows that data is almost balanced completely."
      ],
      "metadata": {
        "id": "6eBW5sDJYCQF"
      }
    },
    {
      "cell_type": "code",
      "source": [
        "print(\"Classes are: \")\n",
        "print(data_df[\"category\"].unique())\n",
        "print()\n",
        "print(\"Classes ditrubution are: \")\n",
        "print(data_df[\"category\"].value_counts())"
      ],
      "metadata": {
        "colab": {
          "base_uri": "https://localhost:8080/"
        },
        "id": "ckNXUJ6G-jsD",
        "outputId": "7abb22bf-a742-44ad-b031-447ec1397c62"
      },
      "execution_count": 5,
      "outputs": [
        {
          "output_type": "stream",
          "name": "stdout",
          "text": [
            "Classes are: \n",
            "[0 1 2]\n",
            "\n",
            "Classes ditrubution are: \n",
            "2    393\n",
            "1    389\n",
            "0    385\n",
            "Name: category, dtype: int64\n"
          ]
        }
      ]
    },
    {
      "cell_type": "markdown",
      "source": [
        "# 5. Data Split\n",
        "Now lets split the dataset into training and testing. Since data is very small, no need to do a validation split. We will split the data same way we did in the previous exercise. We will do that by getting a random sample of 70% from our data using `data_df.sample(frac=0.7,random_state=7)` then we will create a new variable of `test` dataset which we will drop from it the 70% of the `train` which means that it will be 30% of the data which is the rest of the data using `data_df.drop(train.index)`."
      ],
      "metadata": {
        "id": "Uev-TnKHYgOJ"
      }
    },
    {
      "cell_type": "code",
      "source": [
        "train=data_df.sample(frac=0.7,random_state=7) # Create training of 70% of the data\n",
        "test=data_df.drop(train.index) # Create testing by removing the 70% of the train data which will result in 30%"
      ],
      "metadata": {
        "id": "BCCtnfyY-k8Y"
      },
      "execution_count": 6,
      "outputs": []
    },
    {
      "cell_type": "markdown",
      "source": [
        "# 6. Data preprocessing\n"
      ],
      "metadata": {
        "id": "8RK7Y6zXp3Mb"
      }
    },
    {
      "cell_type": "code",
      "source": [
        "train_datagen = ImageDataGenerator(\n",
        "    rescale=1./255,  # Normalize the images\n",
        ")\n",
        "\n",
        "test_datagen = ImageDataGenerator(\n",
        "    rescale=1./255\n",
        ")\n",
        "\n",
        "batch_size = 16  # Adjust based on your RAM capacity\n",
        "\n",
        "train_generator = train_datagen.flow_from_dataframe(\n",
        "    train,\n",
        "    x_col='image:FILE',\n",
        "    y_col='category',\n",
        "    target_size=(150, 150),\n",
        "    batch_size=batch_size,\n",
        "    class_mode='raw'  # Use 'binary' for binary classification\n",
        ")\n",
        "\n",
        "test_generator = test_datagen.flow_from_dataframe(\n",
        "    test,\n",
        "    x_col='image:FILE',\n",
        "    y_col='category',\n",
        "    target_size=(150, 150),\n",
        "    batch_size=batch_size,\n",
        "    class_mode='raw'  # Use 'binary' for binary classification\n",
        ")"
      ],
      "metadata": {
        "colab": {
          "base_uri": "https://localhost:8080/"
        },
        "id": "B9rVmwxD-ueV",
        "outputId": "0cafec1a-004c-4b22-a8bf-e155d99b3c12"
      },
      "execution_count": 7,
      "outputs": [
        {
          "output_type": "stream",
          "name": "stdout",
          "text": [
            "Found 817 validated image filenames.\n",
            "Found 350 validated image filenames.\n"
          ]
        }
      ]
    },
    {
      "cell_type": "markdown",
      "source": [
        "# 7. Base Model"
      ],
      "metadata": {
        "id": "0zwbunf0p8hD"
      }
    },
    {
      "cell_type": "code",
      "source": [
        "base_model = VGG16(weights=\"imagenet\", include_top=False, input_shape=(150, 150, 3))\n",
        "base_model.trainable = False ## Not trainable weights"
      ],
      "metadata": {
        "colab": {
          "base_uri": "https://localhost:8080/"
        },
        "id": "9cIcz5Uw-JFF",
        "outputId": "22a0fad7-ad91-4749-fbdd-737302027db2"
      },
      "execution_count": 8,
      "outputs": [
        {
          "output_type": "stream",
          "name": "stdout",
          "text": [
            "Downloading data from https://storage.googleapis.com/tensorflow/keras-applications/vgg16/vgg16_weights_tf_dim_ordering_tf_kernels_notop.h5\n",
            "58889256/58889256 [==============================] - 0s 0us/step\n"
          ]
        }
      ]
    },
    {
      "cell_type": "markdown",
      "source": [
        "# 8. Modified Model"
      ],
      "metadata": {
        "id": "k4wReIAAp_a5"
      }
    },
    {
      "cell_type": "code",
      "source": [
        "model = Sequential([\n",
        "    base_model,\n",
        "    layers.Flatten(),\n",
        "    layers.Dense(64, activation = \"relu\"),\n",
        "    layers.Dense(32, activation = \"relu\"),\n",
        "    layers.Dense(3, activation = \"softmax\")\n",
        "])\n",
        "model.summary()"
      ],
      "metadata": {
        "colab": {
          "base_uri": "https://localhost:8080/"
        },
        "id": "UYGO6pHd_brL",
        "outputId": "cc1c087c-ac04-4d07-f729-29053f55ec90"
      },
      "execution_count": 9,
      "outputs": [
        {
          "output_type": "stream",
          "name": "stdout",
          "text": [
            "Model: \"sequential\"\n",
            "_________________________________________________________________\n",
            " Layer (type)                Output Shape              Param #   \n",
            "=================================================================\n",
            " vgg16 (Functional)          (None, 4, 4, 512)         14714688  \n",
            "                                                                 \n",
            " flatten (Flatten)           (None, 8192)              0         \n",
            "                                                                 \n",
            " dense (Dense)               (None, 64)                524352    \n",
            "                                                                 \n",
            " dense_1 (Dense)             (None, 32)                2080      \n",
            "                                                                 \n",
            " dense_2 (Dense)             (None, 3)                 99        \n",
            "                                                                 \n",
            "=================================================================\n",
            "Total params: 15241219 (58.14 MB)\n",
            "Trainable params: 526531 (2.01 MB)\n",
            "Non-trainable params: 14714688 (56.13 MB)\n",
            "_________________________________________________________________\n"
          ]
        }
      ]
    },
    {
      "cell_type": "markdown",
      "source": [
        "# 9. Compiling and Training\n"
      ],
      "metadata": {
        "id": "9FdqgWiDqBWv"
      }
    },
    {
      "cell_type": "code",
      "source": [
        "model.compile(optimizer=tf.keras.optimizers.Adam(learning_rate=1e-4),\n",
        "              loss=tf.keras.losses.SparseCategoricalCrossentropy(),\n",
        "              metrics=['accuracy'])\n",
        "\n",
        "history = model.fit(train_generator, epochs=10,)"
      ],
      "metadata": {
        "colab": {
          "base_uri": "https://localhost:8080/"
        },
        "id": "dnaB_q98_q6H",
        "outputId": "90eae42a-7b53-41c4-b06f-01230af3d1c3"
      },
      "execution_count": 10,
      "outputs": [
        {
          "output_type": "stream",
          "name": "stdout",
          "text": [
            "Epoch 1/10\n",
            "52/52 [==============================] - 12s 125ms/step - loss: 0.9294 - accuracy: 0.5337\n",
            "Epoch 2/10\n",
            "52/52 [==============================] - 4s 77ms/step - loss: 0.6239 - accuracy: 0.7540\n",
            "Epoch 3/10\n",
            "52/52 [==============================] - 3s 61ms/step - loss: 0.4861 - accuracy: 0.8127\n",
            "Epoch 4/10\n",
            "52/52 [==============================] - 4s 82ms/step - loss: 0.3874 - accuracy: 0.8666\n",
            "Epoch 5/10\n",
            "52/52 [==============================] - 3s 63ms/step - loss: 0.3277 - accuracy: 0.9009\n",
            "Epoch 6/10\n",
            "52/52 [==============================] - 3s 62ms/step - loss: 0.2652 - accuracy: 0.9388\n",
            "Epoch 7/10\n",
            "52/52 [==============================] - 4s 73ms/step - loss: 0.2297 - accuracy: 0.9523\n",
            "Epoch 8/10\n",
            "52/52 [==============================] - 3s 61ms/step - loss: 0.1957 - accuracy: 0.9608\n",
            "Epoch 9/10\n",
            "52/52 [==============================] - 4s 69ms/step - loss: 0.1626 - accuracy: 0.9755\n",
            "Epoch 10/10\n",
            "52/52 [==============================] - 4s 81ms/step - loss: 0.1346 - accuracy: 0.9853\n"
          ]
        }
      ]
    },
    {
      "cell_type": "markdown",
      "source": [
        "# 10. Testing"
      ],
      "metadata": {
        "id": "jINsapcxqG5T"
      }
    },
    {
      "cell_type": "code",
      "source": [
        "test_results = model.evaluate(test_generator)\n",
        "print()\n",
        "for indx, metric in enumerate(model.metrics_names):\n",
        "  print(\"Testing \",metric, \": \", round(test_results[indx], 4))"
      ],
      "metadata": {
        "colab": {
          "base_uri": "https://localhost:8080/"
        },
        "id": "7IP1Cpox_8rd",
        "outputId": "ba052012-4153-4190-88d0-0f46a792459f"
      },
      "execution_count": 11,
      "outputs": [
        {
          "output_type": "stream",
          "name": "stdout",
          "text": [
            "22/22 [==============================] - 4s 158ms/step - loss: 0.4892 - accuracy: 0.8029\n",
            "\n",
            "Testing  loss :  0.4892\n",
            "Testing  accuracy :  0.8029\n",
            "\n"
          ]
        }
      ]
    },
    {
      "cell_type": "markdown",
      "source": [
        "# 11. Plotting Training Progress\n",
        "Let's plot the training loss and accuracy progress through out the EPOCHS using the history variable we created before and assigned to it the training progress. The results may not be very good, feel free to play with the layers, hyperparameters and text filteration to achieve better performance!"
      ],
      "metadata": {
        "id": "Dq4fIWGCqJg8"
      }
    },
    {
      "cell_type": "code",
      "source": [
        "fig, axs = plt.subplots(nrows=1, ncols=2, figsize=(15, 5))\n",
        "\n",
        "axs[0].plot(history.history['loss'], label='Training Loss')\n",
        "# axs[0].plot(history.history['val_loss'], label='Validation Loss')\n",
        "axs[0].set_title('Training Loss over Epochs')\n",
        "axs[0].set_xlabel('Epochs')\n",
        "axs[0].set_ylabel('Loss')\n",
        "axs[0].legend()\n",
        "\n",
        "axs[1].plot(history.history['accuracy'], label='Training Accuracy')\n",
        "# axs[1].plot(history.history['val_accuracy'], label='Validation Accuracy')\n",
        "axs[1].set_title('Training Accuracy over Epochs')\n",
        "axs[1].set_xlabel('Epochs')\n",
        "axs[1].set_ylabel('Accuracy')\n",
        "axs[1].legend()\n",
        "\n",
        "plt.tight_layout()\n",
        "\n",
        "plt.show()"
      ],
      "metadata": {
        "colab": {
          "base_uri": "https://localhost:8080/",
          "height": 507
        },
        "id": "irBVY4Y5AeOq",
        "outputId": "10fb5a89-577b-444d-acca-39d9adabdba7"
      },
      "execution_count": 12,
      "outputs": [
        {
          "output_type": "display_data",
          "data": {
            "text/plain": [
              "<Figure size 1500x500 with 2 Axes>"
            ],
            "image/png": "[encoded data removed]"
          },
          "metadata": {}
        }
      ]
    }
  ]
}