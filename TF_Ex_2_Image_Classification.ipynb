{
  "nbformat": 4,
  "nbformat_minor": 0,
  "metadata": {
    "colab": {
      "provenance": [],
      "gpuType": "T4"
    },
    "kernelspec": {
      "name": "python3",
      "display_name": "Python 3"
    },
    "language_info": {
      "name": "python"
    },
    "accelerator": "GPU"
  },
  "cells": [
    {
      "cell_type": "markdown",
      "source": [
        "# 1. Initializations and Dataset Download"
      ],
      "metadata": {
        "id": "AmkyD-qp2Sw5"
      }
    },
    {
      "cell_type": "code",
      "execution_count": 1,
      "metadata": {
        "colab": {
          "base_uri": "https://localhost:8080/"
        },
        "id": "NSOFYAxDuCdE",
        "outputId": "b3fa16ea-0a42-432b-bf16-4399b837fd6c"
      },
      "outputs": [
        {
          "output_type": "stream",
          "name": "stdout",
          "text": [
            "Please provide your Kaggle credentials to download this dataset. Learn more: http://bit.ly/kaggle-creds\n",
            "Your Kaggle username: omaratef3221\n",
            "Your Kaggle Key: ··········\n",
            "Downloading animal-faces.zip to ./animal-faces\n"
          ]
        },
        {
          "output_type": "stream",
          "name": "stderr",
          "text": [
            "100%|██████████| 696M/696M [00:06<00:00, 112MB/s]\n"
          ]
        },
        {
          "output_type": "stream",
          "name": "stdout",
          "text": [
            "\n"
          ]
        }
      ],
      "source": [
        "!pip install opendatasets --quiet\n",
        "import opendatasets as od\n",
        "od.download(\"https://www.kaggle.com/datasets/andrewmvd/animal-faces\")"
      ]
    },
    {
      "cell_type": "markdown",
      "source": [
        "# 2. Imports\n",
        "\n",
        "Lets start by getting all our imports. Additionally, we will check if TensorFlow is using the GPU or not. If everything is installed correctly, TensorFlow will use the GPU automatically and in Colab everything is installed for you."
      ],
      "metadata": {
        "id": "Kbtbjcrf2ZIg"
      }
    },
    {
      "cell_type": "code",
      "source": [
        "import tensorflow as tf # TensorFlow main library\n",
        "from tensorflow.keras.preprocessing.image import ImageDataGenerator # Main image data generator to read the images\n",
        "from tensorflow.keras import models, layers # Models layer e.g. Dense, Convolutions, etc.\n",
        "import matplotlib.pyplot as plt # Plotting to plot train progress\n",
        "from sklearn.metrics import classification_report # For Evaluation\n",
        "import pandas as pd # Pandas for data analysis\n",
        "import numpy as np # Analysis for numbers\n",
        "import os # Interacting with the operating system\n",
        "\n",
        "print(tf.config.list_physical_devices('GPU')) # Checking if tensorflow is using the GPU"
      ],
      "metadata": {
        "colab": {
          "base_uri": "https://localhost:8080/"
        },
        "id": "JNyLN3G8vQY7",
        "outputId": "9594a671-a0ca-4bcd-e130-5d8f211d4edd"
      },
      "execution_count": 2,
      "outputs": [
        {
          "output_type": "stream",
          "name": "stdout",
          "text": [
            "[PhysicalDevice(name='/physical_device:GPU:0', device_type='GPU')]\n"
          ]
        }
      ]
    },
    {
      "cell_type": "markdown",
      "source": [
        "# 3. Reading Data Paths\n",
        "The following code will be going through a nested directory structure where images are stored within subdirectories, each directory is representing a specific label (category). It constructs a list of the file paths for these images and their corresponding labels. Then, it creates a pandas DataFrame containing this information, which is useful for further data processing. Keep in mind that we will read all the data and then we will split it again to train, validation and testing."
      ],
      "metadata": {
        "id": "wnICXoXC20M2"
      }
    },
    {
      "cell_type": "code",
      "source": [
        "image_path = [] # Empty array where we will fill the paths of the images\n",
        "labels = [] # Empty array where we will fill the labes of the images\n",
        "\n",
        "for i in os.listdir(\"/content/animal-faces/afhq/\"): # Looping through the first directory which has the train and val images\n",
        "  for label in os.listdir(f\"/content/animal-faces/afhq/{i}\"): # Looping through the first directory which has the labels folders\n",
        "    for image in os.listdir(f\"/content/animal-faces/afhq/{i}/{label}\"): # Looping through all the images of this label\n",
        "      labels.append(label) # Append/Put this label in the list\n",
        "      image_path.append(f\"/content/animal-faces/afhq/{i}/{label}/{image}\") # Append/Put this image path in the list to read it later\n",
        "\n",
        "data_df = pd.DataFrame(zip(image_path, labels), columns = ['image_paths', 'labels']) # Create a dataframe contains the images paths and the labels\n",
        "\n",
        "print(\"Data Distribution: \")\n",
        "print(data_df[\"labels\"].value_counts())\n",
        "\n",
        "print()\n",
        "data_df.head() # Visualizing the first 5 rows\n"
      ],
      "metadata": {
        "colab": {
          "base_uri": "https://localhost:8080/",
          "height": 313
        },
        "id": "5LKg5I0xygx8",
        "outputId": "03ff18e7-1810-436c-d45b-c19302c448fc"
      },
      "execution_count": 3,
      "outputs": [
        {
          "output_type": "stream",
          "name": "stdout",
          "text": [
            "Data Distribution: \n",
            "cat     5653\n",
            "dog     5239\n",
            "wild    5238\n",
            "Name: labels, dtype: int64\n",
            "\n"
          ]
        },
        {
          "output_type": "execute_result",
          "data": {
            "text/plain": [
              "                                         image_paths labels\n",
              "0  /content/animal-faces/afhq/train/wild/flickr_w...   wild\n",
              "1  /content/animal-faces/afhq/train/wild/flickr_w...   wild\n",
              "2  /content/animal-faces/afhq/train/wild/flickr_w...   wild\n",
              "3  /content/animal-faces/afhq/train/wild/flickr_w...   wild\n",
              "4  /content/animal-faces/afhq/train/wild/pixabay_...   wild"
            ],
            "text/html": [
              "\n",
              "  <div id=\"df-26fd83a4-2a4c-4aa0-bea5-f99f4b332626\" class=\"colab-df-container\">\n",
              "    <div>\n",
              "<style scoped>\n",
              "    .dataframe tbody tr th:only-of-type {\n",
              "        vertical-align: middle;\n",
              "    }\n",
              "\n",
              "    .dataframe tbody tr th {\n",
              "        vertical-align: top;\n",
              "    }\n",
              "\n",
              "    .dataframe thead th {\n",
              "        text-align: right;\n",
              "    }\n",
              "</style>\n",
              "<table border=\"1\" class=\"dataframe\">\n",
              "  <thead>\n",
              "    <tr style=\"text-align: right;\">\n",
              "      <th></th>\n",
              "      <th>image_paths</th>\n",
              "      <th>labels</th>\n",
              "    </tr>\n",
              "  </thead>\n",
              "  <tbody>\n",
              "    <tr>\n",
              "      <th>0</th>\n",
              "      <td>/content/animal-faces/afhq/train/wild/flickr_w...</td>\n",
              "      <td>wild</td>\n",
              "    </tr>\n",
              "    <tr>\n",
              "      <th>1</th>\n",
              "      <td>/content/animal-faces/afhq/train/wild/flickr_w...</td>\n",
              "      <td>wild</td>\n",
              "    </tr>\n",
              "    <tr>\n",
              "      <th>2</th>\n",
              "      <td>/content/animal-faces/afhq/train/wild/flickr_w...</td>\n",
              "      <td>wild</td>\n",
              "    </tr>\n",
              "    <tr>\n",
              "      <th>3</th>\n",
              "      <td>/content/animal-faces/afhq/train/wild/flickr_w...</td>\n",
              "      <td>wild</td>\n",
              "    </tr>\n",
              "    <tr>\n",
              "      <th>4</th>\n",
              "      <td>/content/animal-faces/afhq/train/wild/pixabay_...</td>\n",
              "      <td>wild</td>\n",
              "    </tr>\n",
              "  </tbody>\n",
              "</table>\n",
              "</div>\n",
              "    <div class=\"colab-df-buttons\">\n",
              "\n",
              "  <div class=\"colab-df-container\">\n",
              "    <button class=\"colab-df-convert\" onclick=\"convertToInteractive('df-26fd83a4-2a4c-4aa0-bea5-f99f4b332626')\"\n",
              "            title=\"Convert this dataframe to an interactive table.\"\n",
              "            style=\"display:none;\">\n",
              "\n",
              "  <svg xmlns=\"http://www.w3.org/2000/svg\" height=\"24px\" viewBox=\"0 -960 960 960\">\n",
              "    <path d=\"M120-120v-720h720v720H120Zm60-500h600v-160H180v160Zm220 220h160v-160H400v160Zm0 220h160v-160H400v160ZM180-400h160v-160H180v160Zm440 0h160v-160H620v160ZM180-180h160v-160H180v160Zm440 0h160v-160H620v160Z\"/>\n",
              "  </svg>\n",
              "    </button>\n",
              "\n",
              "  <style>\n",
              "    .colab-df-container {\n",
              "      display:flex;\n",
              "      gap: 12px;\n",
              "    }\n",
              "\n",
              "    .colab-df-convert {\n",
              "      background-color: #E8F0FE;\n",
              "      border: none;\n",
              "      border-radius: 50%;\n",
              "      cursor: pointer;\n",
              "      display: none;\n",
              "      fill: #1967D2;\n",
              "      height: 32px;\n",
              "      padding: 0 0 0 0;\n",
              "      width: 32px;\n",
              "    }\n",
              "\n",
              "    .colab-df-convert:hover {\n",
              "      background-color: #E2EBFA;\n",
              "      box-shadow: 0px 1px 2px rgba(60, 64, 67, 0.3), 0px 1px 3px 1px rgba(60, 64, 67, 0.15);\n",
              "      fill: #174EA6;\n",
              "    }\n",
              "\n",
              "    .colab-df-buttons div {\n",
              "      margin-bottom: 4px;\n",
              "    }\n",
              "\n",
              "    [theme=dark] .colab-df-convert {\n",
              "      background-color: #3B4455;\n",
              "      fill: #D2E3FC;\n",
              "    }\n",
              "\n",
              "    [theme=dark] .colab-df-convert:hover {\n",
              "      background-color: #434B5C;\n",
              "      box-shadow: 0px 1px 3px 1px rgba(0, 0, 0, 0.15);\n",
              "      filter: drop-shadow(0px 1px 2px rgba(0, 0, 0, 0.3));\n",
              "      fill: #FFFFFF;\n",
              "    }\n",
              "  </style>\n",
              "\n",
              "    <script>\n",
              "      const buttonEl =\n",
              "        document.querySelector('#df-26fd83a4-2a4c-4aa0-bea5-f99f4b332626 button.colab-df-convert');\n",
              "      buttonEl.style.display =\n",
              "        google.colab.kernel.accessAllowed ? 'block' : 'none';\n",
              "\n",
              "      async function convertToInteractive(key) {\n",
              "        const element = document.querySelector('#df-26fd83a4-2a4c-4aa0-bea5-f99f4b332626');\n",
              "        const dataTable =\n",
              "          await google.colab.kernel.invokeFunction('convertToInteractive',\n",
              "                                                    [key], {});\n",
              "        if (!dataTable) return;\n",
              "\n",
              "        const docLinkHtml = 'Like what you see? Visit the ' +\n",
              "          '<a target=\"_blank\" href=https://colab.research.google.com/notebooks/data_table.ipynb>data table notebook</a>'\n",
              "          + ' to learn more about interactive tables.';\n",
              "        element.innerHTML = '';\n",
              "        dataTable['output_type'] = 'display_data';\n",
              "        await google.colab.output.renderOutput(dataTable, element);\n",
              "        const docLink = document.createElement('div');\n",
              "        docLink.innerHTML = docLinkHtml;\n",
              "        element.appendChild(docLink);\n",
              "      }\n",
              "    </script>\n",
              "  </div>\n",
              "\n",
              "\n",
              "<div id=\"df-6891901f-190f-4c34-901c-e4660a591824\">\n",
              "  <button class=\"colab-df-quickchart\" onclick=\"quickchart('df-6891901f-190f-4c34-901c-e4660a591824')\"\n",
              "            title=\"Suggest charts\"\n",
              "            style=\"display:none;\">\n",
              "\n",
              "<svg xmlns=\"http://www.w3.org/2000/svg\" height=\"24px\"viewBox=\"0 0 24 24\"\n",
              "     width=\"24px\">\n",
              "    <g>\n",
              "        <path d=\"M19 3H5c-1.1 0-2 .9-2 2v14c0 1.1.9 2 2 2h14c1.1 0 2-.9 2-2V5c0-1.1-.9-2-2-2zM9 17H7v-7h2v7zm4 0h-2V7h2v10zm4 0h-2v-4h2v4z\"/>\n",
              "    </g>\n",
              "</svg>\n",
              "  </button>\n",
              "\n",
              "<style>\n",
              "  .colab-df-quickchart {\n",
              "      --bg-color: #E8F0FE;\n",
              "      --fill-color: #1967D2;\n",
              "      --hover-bg-color: #E2EBFA;\n",
              "      --hover-fill-color: #174EA6;\n",
              "      --disabled-fill-color: #AAA;\n",
              "      --disabled-bg-color: #DDD;\n",
              "  }\n",
              "\n",
              "  [theme=dark] .colab-df-quickchart {\n",
              "      --bg-color: #3B4455;\n",
              "      --fill-color: #D2E3FC;\n",
              "      --hover-bg-color: #434B5C;\n",
              "      --hover-fill-color: #FFFFFF;\n",
              "      --disabled-bg-color: #3B4455;\n",
              "      --disabled-fill-color: #666;\n",
              "  }\n",
              "\n",
              "  .colab-df-quickchart {\n",
              "    background-color: var(--bg-color);\n",
              "    border: none;\n",
              "    border-radius: 50%;\n",
              "    cursor: pointer;\n",
              "    display: none;\n",
              "    fill: var(--fill-color);\n",
              "    height: 32px;\n",
              "    padding: 0;\n",
              "    width: 32px;\n",
              "  }\n",
              "\n",
              "  .colab-df-quickchart:hover {\n",
              "    background-color: var(--hover-bg-color);\n",
              "    box-shadow: 0 1px 2px rgba(60, 64, 67, 0.3), 0 1px 3px 1px rgba(60, 64, 67, 0.15);\n",
              "    fill: var(--button-hover-fill-color);\n",
              "  }\n",
              "\n",
              "  .colab-df-quickchart-complete:disabled,\n",
              "  .colab-df-quickchart-complete:disabled:hover {\n",
              "    background-color: var(--disabled-bg-color);\n",
              "    fill: var(--disabled-fill-color);\n",
              "    box-shadow: none;\n",
              "  }\n",
              "\n",
              "  .colab-df-spinner {\n",
              "    border: 2px solid var(--fill-color);\n",
              "    border-color: transparent;\n",
              "    border-bottom-color: var(--fill-color);\n",
              "    animation:\n",
              "      spin 1s steps(1) infinite;\n",
              "  }\n",
              "\n",
              "  @keyframes spin {\n",
              "    0% {\n",
              "      border-color: transparent;\n",
              "      border-bottom-color: var(--fill-color);\n",
              "      border-left-color: var(--fill-color);\n",
              "    }\n",
              "    20% {\n",
              "      border-color: transparent;\n",
              "      border-left-color: var(--fill-color);\n",
              "      border-top-color: var(--fill-color);\n",
              "    }\n",
              "    30% {\n",
              "      border-color: transparent;\n",
              "      border-left-color: var(--fill-color);\n",
              "      border-top-color: var(--fill-color);\n",
              "      border-right-color: var(--fill-color);\n",
              "    }\n",
              "    40% {\n",
              "      border-color: transparent;\n",
              "      border-right-color: var(--fill-color);\n",
              "      border-top-color: var(--fill-color);\n",
              "    }\n",
              "    60% {\n",
              "      border-color: transparent;\n",
              "      border-right-color: var(--fill-color);\n",
              "    }\n",
              "    80% {\n",
              "      border-color: transparent;\n",
              "      border-right-color: var(--fill-color);\n",
              "      border-bottom-color: var(--fill-color);\n",
              "    }\n",
              "    90% {\n",
              "      border-color: transparent;\n",
              "      border-bottom-color: var(--fill-color);\n",
              "    }\n",
              "  }\n",
              "</style>\n",
              "\n",
              "  <script>\n",
              "    async function quickchart(key) {\n",
              "      const quickchartButtonEl =\n",
              "        document.querySelector('#' + key + ' button');\n",
              "      quickchartButtonEl.disabled = true;  // To prevent multiple clicks.\n",
              "      quickchartButtonEl.classList.add('colab-df-spinner');\n",
              "      try {\n",
              "        const charts = await google.colab.kernel.invokeFunction(\n",
              "            'suggestCharts', [key], {});\n",
              "      } catch (error) {\n",
              "        console.error('Error during call to suggestCharts:', error);\n",
              "      }\n",
              "      quickchartButtonEl.classList.remove('colab-df-spinner');\n",
              "      quickchartButtonEl.classList.add('colab-df-quickchart-complete');\n",
              "    }\n",
              "    (() => {\n",
              "      let quickchartButtonEl =\n",
              "        document.querySelector('#df-6891901f-190f-4c34-901c-e4660a591824 button');\n",
              "      quickchartButtonEl.style.display =\n",
              "        google.colab.kernel.accessAllowed ? 'block' : 'none';\n",
              "    })();\n",
              "  </script>\n",
              "</div>\n",
              "\n",
              "    </div>\n",
              "  </div>\n"
            ]
          },
          "metadata": {},
          "execution_count": 3
        }
      ]
    },
    {
      "cell_type": "markdown",
      "source": [
        "# 4. Data Split\n",
        "\n",
        "Now lets split the dataset into training, validation and testing. Here we will be using it in a bit different way since we will be reading the image paths from the dataframe so better we split the dataframe directly and then read the images. We will do that by getting a random sample of 70% from our data using `data_df.sample(frac=0.7,random_state=7)` then we will create a new variable of test dataset which we will drop from it the 70% of the train which means that it will be 30% of the data which is the rest of the data using `data_df.drop(train.index)`. Then we will do the same between testing to create validation which will be 50% of the data which means the final split we have is the following:\n",
        "\n",
        "*   Training: 70%\n",
        "*   Validation: 15%\n",
        "*   Testing: 15%\n",
        "\n"
      ],
      "metadata": {
        "id": "uZDpjNFX28fC"
      }
    },
    {
      "cell_type": "code",
      "source": [
        "train=data_df.sample(frac=0.7,random_state=7) # Create training of 70% of the data\n",
        "test=data_df.drop(train.index) # Create testing by removing the 70% of the train data which will result in 30%\n",
        "\n",
        "val=test.sample(frac=0.5,random_state=7) # Create validation of 50% of the testing data\n",
        "test=test.drop(val.index) # Create testing by removing the 50% of the validation data which will result in 50%"
      ],
      "metadata": {
        "id": "ytnvu1dayX11"
      },
      "execution_count": 4,
      "outputs": []
    },
    {
      "cell_type": "code",
      "source": [
        "train_datagen = ImageDataGenerator(\n",
        "    rescale=1./255,  # Normalize the images\n",
        ")\n",
        "\n",
        "val_datagen = ImageDataGenerator(\n",
        "    rescale=1./255\n",
        ")\n",
        "\n",
        "test_datagen = ImageDataGenerator(\n",
        "    rescale=1./255\n",
        ")\n",
        "\n",
        "batch_size = 16  # Adjust based on your RAM capacity\n",
        "\n",
        "train_generator = train_datagen.flow_from_dataframe(\n",
        "    train,\n",
        "    x_col='image_paths',\n",
        "    y_col='labels',\n",
        "    target_size=(150, 150),\n",
        "    batch_size=batch_size,\n",
        "    class_mode='categorical'  # Use 'binary' for binary classification\n",
        ")\n",
        "\n",
        "val_generator = val_datagen.flow_from_dataframe(\n",
        "    val,\n",
        "    x_col='image_paths',\n",
        "    y_col='labels',\n",
        "    target_size=(150, 150),\n",
        "    batch_size=batch_size,\n",
        "    class_mode='categorical'  # Use 'binary' for binary classification\n",
        ")\n",
        "\n",
        "test_generator = test_datagen.flow_from_dataframe(\n",
        "    test,\n",
        "    x_col='image_paths',\n",
        "    y_col='labels',\n",
        "    target_size=(150, 150),\n",
        "    batch_size=batch_size,\n",
        "    class_mode='categorical'  # Use 'binary' for binary classification\n",
        ")"
      ],
      "metadata": {
        "colab": {
          "base_uri": "https://localhost:8080/"
        },
        "id": "SxpnA5IIvw4q",
        "outputId": "63036609-bfb2-4831-aa7f-1b2e71be7e20"
      },
      "execution_count": 5,
      "outputs": [
        {
          "output_type": "stream",
          "name": "stdout",
          "text": [
            "Found 11291 validated image filenames belonging to 3 classes.\n",
            "Found 2420 validated image filenames belonging to 3 classes.\n",
            "Found 2419 validated image filenames belonging to 3 classes.\n"
          ]
        }
      ]
    },
    {
      "cell_type": "code",
      "source": [
        "model = models.Sequential() # The type of the model we will build is called sequential\n",
        "model.add(layers.Conv2D(32, (3, 3), activation='relu', input_shape=(150, 150, 3)))\n",
        "model.add(layers.MaxPooling2D((2, 2)))\n",
        "model.add(layers.Conv2D(64, (3, 3), activation='relu'))\n",
        "model.add(layers.MaxPooling2D((2, 2)))\n",
        "model.add(layers.Conv2D(64, (3, 3), activation='relu'))\n",
        "model.add(layers.Flatten())\n",
        "model.add(layers.Dense(64, activation='relu'))\n",
        "model.add(layers.Dropout(0.5))\n",
        "model.add(layers.Dense(3, activation = 'softmax'))\n",
        "model.summary()"
      ],
      "metadata": {
        "colab": {
          "base_uri": "https://localhost:8080/"
        },
        "id": "N2ImK5HSwFDS",
        "outputId": "29ab18d1-6a78-4395-c76c-7033694a448a"
      },
      "execution_count": 6,
      "outputs": [
        {
          "output_type": "stream",
          "name": "stdout",
          "text": [
            "Model: \"sequential\"\n",
            "_________________________________________________________________\n",
            " Layer (type)                Output Shape              Param #   \n",
            "=================================================================\n",
            " conv2d (Conv2D)             (None, 148, 148, 32)      896       \n",
            "                                                                 \n",
            " max_pooling2d (MaxPooling2  (None, 74, 74, 32)        0         \n",
            " D)                                                              \n",
            "                                                                 \n",
            " conv2d_1 (Conv2D)           (None, 72, 72, 64)        18496     \n",
            "                                                                 \n",
            " max_pooling2d_1 (MaxPoolin  (None, 36, 36, 64)        0         \n",
            " g2D)                                                            \n",
            "                                                                 \n",
            " conv2d_2 (Conv2D)           (None, 34, 34, 64)        36928     \n",
            "                                                                 \n",
            " flatten (Flatten)           (None, 73984)             0         \n",
            "                                                                 \n",
            " dense (Dense)               (None, 64)                4735040   \n",
            "                                                                 \n",
            " dropout (Dropout)           (None, 64)                0         \n",
            "                                                                 \n",
            " dense_1 (Dense)             (None, 3)                 195       \n",
            "                                                                 \n",
            "=================================================================\n",
            "Total params: 4791555 (18.28 MB)\n",
            "Trainable params: 4791555 (18.28 MB)\n",
            "Non-trainable params: 0 (0.00 Byte)\n",
            "_________________________________________________________________\n"
          ]
        }
      ]
    },
    {
      "cell_type": "code",
      "source": [
        "model.compile(optimizer='adam',\n",
        "              loss=tf.keras.losses.CategoricalCrossentropy(),\n",
        "              metrics=['accuracy'])\n",
        "\n",
        "history = model.fit(train_generator, epochs=10,\n",
        "                    validation_data=val_generator)"
      ],
      "metadata": {
        "colab": {
          "base_uri": "https://localhost:8080/"
        },
        "id": "1rLR8O2jwn-7",
        "outputId": "fe3b4dc9-c112-4e00-dcac-ee1297fcb70f"
      },
      "execution_count": 7,
      "outputs": [
        {
          "output_type": "stream",
          "name": "stdout",
          "text": [
            "Epoch 1/10\n",
            "706/706 [==============================] - 48s 58ms/step - loss: 0.5116 - accuracy: 0.7937 - val_loss: 0.1736 - val_accuracy: 0.9438\n",
            "Epoch 2/10\n",
            "706/706 [==============================] - 35s 49ms/step - loss: 0.2157 - accuracy: 0.9227 - val_loss: 0.1172 - val_accuracy: 0.9587\n",
            "Epoch 3/10\n",
            "706/706 [==============================] - 35s 49ms/step - loss: 0.1319 - accuracy: 0.9531 - val_loss: 0.1071 - val_accuracy: 0.9632\n",
            "Epoch 4/10\n",
            "706/706 [==============================] - 36s 51ms/step - loss: 0.0998 - accuracy: 0.9645 - val_loss: 0.1120 - val_accuracy: 0.9661\n",
            "Epoch 5/10\n",
            "706/706 [==============================] - 38s 54ms/step - loss: 0.0852 - accuracy: 0.9685 - val_loss: 0.0932 - val_accuracy: 0.9736\n",
            "Epoch 6/10\n",
            "706/706 [==============================] - 35s 50ms/step - loss: 0.0558 - accuracy: 0.9791 - val_loss: 0.1131 - val_accuracy: 0.9632\n",
            "Epoch 7/10\n",
            "706/706 [==============================] - 34s 48ms/step - loss: 0.0423 - accuracy: 0.9853 - val_loss: 0.1433 - val_accuracy: 0.9657\n",
            "Epoch 8/10\n",
            "706/706 [==============================] - 34s 48ms/step - loss: 0.0552 - accuracy: 0.9833 - val_loss: 0.1381 - val_accuracy: 0.9661\n",
            "Epoch 9/10\n",
            "706/706 [==============================] - 35s 50ms/step - loss: 0.0406 - accuracy: 0.9857 - val_loss: 0.1197 - val_accuracy: 0.9698\n",
            "Epoch 10/10\n",
            "706/706 [==============================] - 33s 47ms/step - loss: 0.0400 - accuracy: 0.9872 - val_loss: 0.1678 - val_accuracy: 0.9521\n"
          ]
        }
      ]
    },
    {
      "cell_type": "code",
      "source": [
        "test_results = model.evaluate(test_generator)\n",
        "print()\n",
        "for indx, metric in enumerate(model.metrics_names):\n",
        "  print(\"Testing \",metric, \": \", round(test_results[indx], 4))\n",
        "\n",
        "print()\n",
        "predictions = model.predict(test_generator)\n",
        "print(classification_report(test_generator.classes,\n",
        "                            predictions.argmax(axis=-1),\n",
        "                            target_names=test_generator.class_indices))"
      ],
      "metadata": {
        "colab": {
          "base_uri": "https://localhost:8080/"
        },
        "id": "vcMYrHALwzLj",
        "outputId": "2b536f67-3f78-42fe-e6a9-4985c16facc7"
      },
      "execution_count": 30,
      "outputs": [
        {
          "output_type": "stream",
          "name": "stdout",
          "text": [
            "152/152 [==============================] - 6s 36ms/step - loss: 0.2163 - accuracy: 0.9446\n",
            "\n",
            "Testing  loss :  0.2163\n",
            "Testing  accuracy :  0.9446\n",
            "\n",
            "152/152 [==============================] - 5s 32ms/step\n",
            "              precision    recall  f1-score   support\n",
            "\n",
            "         cat       0.37      0.37      0.37       858\n",
            "         dog       0.33      0.32      0.32       800\n",
            "        wild       0.30      0.32      0.31       761\n",
            "\n",
            "    accuracy                           0.34      2419\n",
            "   macro avg       0.33      0.33      0.33      2419\n",
            "weighted avg       0.34      0.34      0.34      2419\n",
            "\n"
          ]
        }
      ]
    },
    {
      "cell_type": "markdown",
      "source": [
        "# 9. Plotting Training Progress\n",
        "\n",
        "Let's plot the training and validation progress through out the EPOCHS using the history variable we created before and assigned to it the training progress. The results may not be very good, feel free to play with the layers, hyperparameters and text filteration to achieve better performance!"
      ],
      "metadata": {
        "id": "Xl4zFKKl5tih"
      }
    },
    {
      "cell_type": "code",
      "source": [
        "fig, axs = plt.subplots(nrows=1, ncols=2, figsize=(15, 5))\n",
        "\n",
        "axs[0].plot(history.history['loss'], label='Training Loss')\n",
        "axs[0].plot(history.history['val_loss'], label='Validation Loss')\n",
        "axs[0].set_title('Training and Validation Loss over Epochs')\n",
        "axs[0].set_xlabel('Epochs')\n",
        "axs[0].set_ylabel('Loss')\n",
        "axs[0].legend()\n",
        "\n",
        "axs[1].plot(history.history['accuracy'], label='Training Accuracy')\n",
        "axs[1].plot(history.history['val_accuracy'], label='Validation Accuracy')\n",
        "axs[1].set_title('Training and Validation Accuracy over Epochs')\n",
        "axs[1].set_xlabel('Epochs')\n",
        "axs[1].set_ylabel('Accuracy')\n",
        "axs[1].legend()\n",
        "\n",
        "plt.tight_layout()\n",
        "\n",
        "plt.show()"
      ],
      "metadata": {
        "colab": {
          "base_uri": "https://localhost:8080/",
          "height": 421
        },
        "id": "4OKcUns85oyv",
        "outputId": "d86c46ae-7e14-435a-997f-057b8842f7d6"
      },
      "execution_count": 31,
      "outputs": [
        {
          "output_type": "display_data",
          "data": {
            "text/plain": [
              "<Figure size 1500x500 with 2 Axes>"
            ],
            "image/png": "[encoded data removed]"
          },
          "metadata": {}
        }
      ]
    }
  ]
}